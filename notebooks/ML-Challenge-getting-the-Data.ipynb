{
 "cells": [
  {
   "cell_type": "markdown",
   "metadata": {},
   "source": [
    "# Machine Learning Challenge #6 - Extracting Data"
   ]
  },
  {
   "cell_type": "code",
   "execution_count": 1,
   "metadata": {},
   "outputs": [],
   "source": [
    "# Importing required library \n",
    "# !pip install python-dotenv\n",
    "from dotenv import load_dotenv, find_dotenv\n",
    "import requests\n",
    "from requests import session\n",
    "import os"
   ]
  },
  {
   "cell_type": "code",
   "execution_count": 2,
   "metadata": {},
   "outputs": [
    {
     "data": {
      "text/plain": [
       "True"
      ]
     },
     "execution_count": 2,
     "metadata": {},
     "output_type": "execute_result"
    }
   ],
   "source": [
    "# find .env file automatically by walking up directories until it's found\n",
    "dotenv_path = find_dotenv()\n",
    "\n",
    "#loading entries as enviroment variables\n",
    "load_dotenv(dotenv_path)\n"
   ]
  },
  {
   "cell_type": "code",
   "execution_count": 3,
   "metadata": {},
   "outputs": [],
   "source": [
    "# The direct link to the Kaggle data set\n",
    "building_own = 'https://www.kaggle.com/rahul110/building-dataset-hackerearth-ml-6#Building_Ownership_Use.csv'\n",
    "building_str = 'https://www.kaggle.com/rahul110/building-dataset-hackerearth-ml-6#Building_Structure.csv'\n",
    "test = 'https://www.kaggle.com/rahul110/building-dataset-hackerearth-ml-6#test.csv'\n",
    "train = 'https://www.kaggle.com/rahul110/building-dataset-hackerearth-ml-6#train.csv'\n",
    "\n",
    "url_list = ['https://www.kaggle.com/rahul110/building-dataset-hackerearth-ml-6#Building_Ownership_Use.csv',\n",
    "'https://www.kaggle.com/rahul110/building-dataset-hackerearth-ml-6#Building_Structure.csv',\n",
    "'https://www.kaggle.com/rahul110/building-dataset-hackerearth-ml-6#test.csv',\n",
    "'https://www.kaggle.com/rahul110/building-dataset-hackerearth-ml-6#train.csv']\n",
    "\n",
    "# The local path where the data set is saved.\n",
    "raw_data_path = os.path.join(os.path.pardir,'data','raw')\n",
    "\n",
    "\n",
    "# Kaggle Username and Password\n",
    "kaggle_info = {'UserName': os.environ.get('KAGGLE_USERNAME'), 'Password': os.environ.get('KAGGLE_PWD')}\n",
    "\n",
    "\n",
    "def download_file(url):\n",
    "    cwd = os.getcwd()\n",
    "    os.chdir(raw_data_path)\n",
    "    local_filename = url.split('#')[-1]\n",
    "    # NOTE the stream=True parameter\n",
    "    r = requests.get(url, stream=True,data = kaggle_info)\n",
    "    with open(local_filename, 'wb') as f:\n",
    "        for chunk in r.iter_content(chunk_size=1024): \n",
    "            if chunk: # filter out keep-alive new chunks\n",
    "                f.write(chunk)\n",
    "                os.chdir(cwd)\n",
    "                #f.flush() commented by recommendation from J.F.Sebastian\n",
    "    return local_filename"
   ]
  },
  {
   "cell_type": "code",
   "execution_count": 4,
   "metadata": {},
   "outputs": [],
   "source": [
    "# extract data\n",
    "for url in url_list:\n",
    "    download_file(url)\n"
   ]
  },
  {
   "cell_type": "markdown",
   "metadata": {},
   "source": []
  },
  {
   "cell_type": "code",
   "execution_count": null,
   "metadata": {},
   "outputs": [],
   "source": []
  },
  {
   "cell_type": "code",
   "execution_count": null,
   "metadata": {},
   "outputs": [],
   "source": []
  }
 ],
 "metadata": {
  "kernelspec": {
   "display_name": "Python 3",
   "language": "python",
   "name": "python3"
  },
  "language_info": {
   "codemirror_mode": {
    "name": "ipython",
    "version": 3
   },
   "file_extension": ".py",
   "mimetype": "text/x-python",
   "name": "python",
   "nbconvert_exporter": "python",
   "pygments_lexer": "ipython3",
   "version": "3.6.5"
  }
 },
 "nbformat": 4,
 "nbformat_minor": 2
}
